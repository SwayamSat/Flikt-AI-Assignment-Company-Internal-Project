{
 "cells": [
  {
   "cell_type": "markdown",
   "metadata": {},
   "source": [
    "# Part 4: Predictive Insight Generation\n",
    "## Customer Feedback Analysis and Forecasting\n"
   ]
  },
  {
   "cell_type": "code",
   "execution_count": 8,
   "metadata": {},
   "outputs": [],
   "source": [
    "import pandas as pd\n",
    "import numpy as np\n",
    "import matplotlib.pyplot as plt\n",
    "import seaborn as sns\n",
    "from sklearn.feature_extraction.text import CountVectorizer\n",
    "from sklearn.linear_model import LinearRegression\n",
    "from matplotlib.backends.backend_pdf import PdfPages\n",
    "from datetime import datetime\n",
    "import warnings\n",
    "warnings.filterwarnings('ignore')\n",
    "\n",
    "plt.style.use('seaborn-v0_8-darkgrid')\n"
   ]
  },
  {
   "cell_type": "code",
   "execution_count": 9,
   "metadata": {},
   "outputs": [
    {
     "name": "stdout",
     "output_type": "stream",
     "text": [
      "Dataset loaded: (259, 18)\n"
     ]
    },
    {
     "data": {
      "text/html": [
       "<div>\n",
       "<style scoped>\n",
       "    .dataframe tbody tr th:only-of-type {\n",
       "        vertical-align: middle;\n",
       "    }\n",
       "\n",
       "    .dataframe tbody tr th {\n",
       "        vertical-align: top;\n",
       "    }\n",
       "\n",
       "    .dataframe thead th {\n",
       "        text-align: right;\n",
       "    }\n",
       "</style>\n",
       "<table border=\"1\" class=\"dataframe\">\n",
       "  <thead>\n",
       "    <tr style=\"text-align: right;\">\n",
       "      <th></th>\n",
       "      <th>Review Title</th>\n",
       "      <th>Customer name</th>\n",
       "      <th>Rating</th>\n",
       "      <th>Rating_Numeric</th>\n",
       "      <th>Date</th>\n",
       "      <th>Date_Parsed</th>\n",
       "      <th>Category</th>\n",
       "      <th>Comments</th>\n",
       "      <th>Useful</th>\n",
       "      <th>Helpful_Count</th>\n",
       "      <th>Review_Title_Clean</th>\n",
       "      <th>Comments_Clean</th>\n",
       "      <th>Combined_Text</th>\n",
       "      <th>Review_Title_Processed</th>\n",
       "      <th>Comments_Processed</th>\n",
       "      <th>Combined_Text_Processed</th>\n",
       "      <th>Text_Length</th>\n",
       "      <th>Word_Count</th>\n",
       "    </tr>\n",
       "  </thead>\n",
       "  <tbody>\n",
       "    <tr>\n",
       "      <th>0</th>\n",
       "      <td>Another Midrange killer Smartphone by Xiaomi</td>\n",
       "      <td>Rishikumar Thakur</td>\n",
       "      <td>4.0 out of 5 stars</td>\n",
       "      <td>4.0</td>\n",
       "      <td>on 1 October 2018</td>\n",
       "      <td>2018-10-01</td>\n",
       "      <td>Display</td>\n",
       "      <td>Another Midrange killer Smartphone by Xiaomi\\n...</td>\n",
       "      <td></td>\n",
       "      <td>0</td>\n",
       "      <td>Another Midrange killer Smartphone by Xiaomi</td>\n",
       "      <td>Another Midrange killer Smartphone by Xiaomi M...</td>\n",
       "      <td>Another Midrange killer Smartphone by Xiaomi A...</td>\n",
       "      <td>another midrange killer smartphone xiaomi</td>\n",
       "      <td>another midrange killer smartphone xiaomi majo...</td>\n",
       "      <td>another midrange killer smartphone xiaomi anot...</td>\n",
       "      <td>4579</td>\n",
       "      <td>860</td>\n",
       "    </tr>\n",
       "    <tr>\n",
       "      <th>1</th>\n",
       "      <td>vry small size mobile</td>\n",
       "      <td>Raza ji</td>\n",
       "      <td>3.0 out of 5 stars</td>\n",
       "      <td>3.0</td>\n",
       "      <td>on 15 September 2018</td>\n",
       "      <td>2018-09-15</td>\n",
       "      <td>Others</td>\n",
       "      <td>All ok but vry small size mobile</td>\n",
       "      <td>7 people found this helpful</td>\n",
       "      <td>7</td>\n",
       "      <td>vry small size mobile</td>\n",
       "      <td>All ok but vry small size mobile</td>\n",
       "      <td>vry small size mobile All ok but vry small siz...</td>\n",
       "      <td>vry small size mobile</td>\n",
       "      <td>vry small size mobile</td>\n",
       "      <td>vry small size mobile vry small size mobile</td>\n",
       "      <td>54</td>\n",
       "      <td>11</td>\n",
       "    </tr>\n",
       "    <tr>\n",
       "      <th>2</th>\n",
       "      <td>Full display not working in all application.</td>\n",
       "      <td>Vaibhav Patel</td>\n",
       "      <td>3.0 out of 5 stars</td>\n",
       "      <td>3.0</td>\n",
       "      <td>on 18 September 2018</td>\n",
       "      <td>2018-09-18</td>\n",
       "      <td>Others</td>\n",
       "      <td>Quite good</td>\n",
       "      <td>7 people found this helpful</td>\n",
       "      <td>7</td>\n",
       "      <td>Full display not working in all application.</td>\n",
       "      <td>Quite good</td>\n",
       "      <td>Full display not working in all application. Q...</td>\n",
       "      <td>full display working application</td>\n",
       "      <td>quite good</td>\n",
       "      <td>full display working application quite good</td>\n",
       "      <td>55</td>\n",
       "      <td>9</td>\n",
       "    </tr>\n",
       "    <tr>\n",
       "      <th>3</th>\n",
       "      <td>Value for Money</td>\n",
       "      <td>Amazon Customer</td>\n",
       "      <td>5.0 out of 5 stars</td>\n",
       "      <td>5.0</td>\n",
       "      <td>on 28 September 2018</td>\n",
       "      <td>2018-09-28</td>\n",
       "      <td>Display</td>\n",
       "      <td>Redmi has always have been the the king of bud...</td>\n",
       "      <td>2 people found this helpful</td>\n",
       "      <td>2</td>\n",
       "      <td>Value for Money</td>\n",
       "      <td>Redmi has always have been the the king of bud...</td>\n",
       "      <td>Value for Money Redmi has always have been the...</td>\n",
       "      <td>value money</td>\n",
       "      <td>redmi always king budget segment.and yet anoth...</td>\n",
       "      <td>value money redmi always king budget segment.a...</td>\n",
       "      <td>857</td>\n",
       "      <td>154</td>\n",
       "    </tr>\n",
       "    <tr>\n",
       "      <th>4</th>\n",
       "      <td>Not worth for the money</td>\n",
       "      <td>Sudhakaran Wadakkancheri</td>\n",
       "      <td>2.0 out of 5 stars</td>\n",
       "      <td>2.0</td>\n",
       "      <td>on 18 September 2018</td>\n",
       "      <td>2018-09-18</td>\n",
       "      <td>Others</td>\n",
       "      <td>worst product from MI. I am a hardcore fan of ...</td>\n",
       "      <td>6 people found this helpful</td>\n",
       "      <td>6</td>\n",
       "      <td>Not worth for the money</td>\n",
       "      <td>worst product from MI. I am a hardcore fan of ...</td>\n",
       "      <td>Not worth for the money worst product from MI....</td>\n",
       "      <td>worth money</td>\n",
       "      <td>worst product hardcore fan one really disappoi...</td>\n",
       "      <td>worth money worst product hardcore fan one rea...</td>\n",
       "      <td>108</td>\n",
       "      <td>21</td>\n",
       "    </tr>\n",
       "  </tbody>\n",
       "</table>\n",
       "</div>"
      ],
      "text/plain": [
       "                                   Review Title             Customer name  \\\n",
       "0  Another Midrange killer Smartphone by Xiaomi         Rishikumar Thakur   \n",
       "1                         vry small size mobile                   Raza ji   \n",
       "2  Full display not working in all application.             Vaibhav Patel   \n",
       "3                               Value for Money           Amazon Customer   \n",
       "4                       Not worth for the money  Sudhakaran Wadakkancheri   \n",
       "\n",
       "               Rating  Rating_Numeric                  Date Date_Parsed  \\\n",
       "0  4.0 out of 5 stars             4.0     on 1 October 2018  2018-10-01   \n",
       "1  3.0 out of 5 stars             3.0  on 15 September 2018  2018-09-15   \n",
       "2  3.0 out of 5 stars             3.0  on 18 September 2018  2018-09-18   \n",
       "3  5.0 out of 5 stars             5.0  on 28 September 2018  2018-09-28   \n",
       "4  2.0 out of 5 stars             2.0  on 18 September 2018  2018-09-18   \n",
       "\n",
       "  Category                                           Comments  \\\n",
       "0  Display  Another Midrange killer Smartphone by Xiaomi\\n...   \n",
       "1   Others                   All ok but vry small size mobile   \n",
       "2   Others                                         Quite good   \n",
       "3  Display  Redmi has always have been the the king of bud...   \n",
       "4   Others  worst product from MI. I am a hardcore fan of ...   \n",
       "\n",
       "                        Useful  Helpful_Count  \\\n",
       "0                                           0   \n",
       "1  7 people found this helpful              7   \n",
       "2  7 people found this helpful              7   \n",
       "3  2 people found this helpful              2   \n",
       "4  6 people found this helpful              6   \n",
       "\n",
       "                             Review_Title_Clean  \\\n",
       "0  Another Midrange killer Smartphone by Xiaomi   \n",
       "1                         vry small size mobile   \n",
       "2  Full display not working in all application.   \n",
       "3                               Value for Money   \n",
       "4                       Not worth for the money   \n",
       "\n",
       "                                      Comments_Clean  \\\n",
       "0  Another Midrange killer Smartphone by Xiaomi M...   \n",
       "1                   All ok but vry small size mobile   \n",
       "2                                         Quite good   \n",
       "3  Redmi has always have been the the king of bud...   \n",
       "4  worst product from MI. I am a hardcore fan of ...   \n",
       "\n",
       "                                       Combined_Text  \\\n",
       "0  Another Midrange killer Smartphone by Xiaomi A...   \n",
       "1  vry small size mobile All ok but vry small siz...   \n",
       "2  Full display not working in all application. Q...   \n",
       "3  Value for Money Redmi has always have been the...   \n",
       "4  Not worth for the money worst product from MI....   \n",
       "\n",
       "                      Review_Title_Processed  \\\n",
       "0  another midrange killer smartphone xiaomi   \n",
       "1                      vry small size mobile   \n",
       "2           full display working application   \n",
       "3                                value money   \n",
       "4                                worth money   \n",
       "\n",
       "                                  Comments_Processed  \\\n",
       "0  another midrange killer smartphone xiaomi majo...   \n",
       "1                              vry small size mobile   \n",
       "2                                         quite good   \n",
       "3  redmi always king budget segment.and yet anoth...   \n",
       "4  worst product hardcore fan one really disappoi...   \n",
       "\n",
       "                             Combined_Text_Processed  Text_Length  Word_Count  \n",
       "0  another midrange killer smartphone xiaomi anot...         4579         860  \n",
       "1        vry small size mobile vry small size mobile           54          11  \n",
       "2        full display working application quite good           55           9  \n",
       "3  value money redmi always king budget segment.a...          857         154  \n",
       "4  worth money worst product hardcore fan one rea...          108          21  "
      ]
     },
     "execution_count": 9,
     "metadata": {},
     "output_type": "execute_result"
    }
   ],
   "source": [
    "df = pd.read_csv('cleaned_customer_feedback.csv')\n",
    "df['Date_Parsed'] = pd.to_datetime(df['Date_Parsed'])\n",
    "print(f\"Dataset loaded: {df.shape}\")\n",
    "df.head()\n"
   ]
  },
  {
   "cell_type": "markdown",
   "metadata": {},
   "source": [
    "## 1. Identify Recurring Issues and Complaints\n"
   ]
  },
  {
   "cell_type": "code",
   "execution_count": 10,
   "metadata": {},
   "outputs": [
    {
     "name": "stdout",
     "output_type": "stream",
     "text": [
      "Analyzing 46 negative reviews for recurring issues\n"
     ]
    }
   ],
   "source": [
    "def create_sentiment_label(rating):\n",
    "    if rating >= 4.0:\n",
    "        return 'Positive'\n",
    "    elif rating >= 3.0:\n",
    "        return 'Neutral'\n",
    "    else:\n",
    "        return 'Negative'\n",
    "\n",
    "df['Sentiment'] = df['Rating_Numeric'].apply(create_sentiment_label)\n",
    "negative_reviews = df[df['Sentiment'] == 'Negative']['Comments_Processed'].dropna()\n",
    "print(f\"Analyzing {len(negative_reviews)} negative reviews for recurring issues\")\n"
   ]
  },
  {
   "cell_type": "code",
   "execution_count": 11,
   "metadata": {},
   "outputs": [
    {
     "name": "stdout",
     "output_type": "stream",
     "text": [
      "\n",
      "============================================================\n",
      "TOP RECURRING ISSUES IN CUSTOMER FEEDBACK\n",
      "============================================================\n",
      "phone                          :  42 occurrences\n",
      "camera                         :  27 occurrences\n",
      "quality                        :  23 occurrences\n",
      "please                         :  20 occurrences\n",
      "buy                            :  16 occurrences\n",
      "good                           :  15 occurrences\n",
      "amazon                         :  14 occurrences\n",
      "front                          :  13 occurrences\n",
      "mobile                         :  13 occurrences\n",
      "screen                         :  13 occurrences\n",
      "issue                          :  12 occurrences\n",
      "worst                          :  12 occurrences\n",
      "problem                        :  10 occurrences\n",
      "product                        :  10 occurrences\n",
      "poor                           :   9 occurrences\n",
      "============================================================\n"
     ]
    }
   ],
   "source": [
    "negative_reviews_list = negative_reviews.astype(str).tolist()\n",
    "\n",
    "vectorizer = CountVectorizer(max_features=50, ngram_range=(1, 3), min_df=1)\n",
    "word_counts = vectorizer.fit_transform(negative_reviews_list)\n",
    "feature_names = vectorizer.get_feature_names_out()\n",
    "word_freq = dict(zip(feature_names, word_counts.toarray().sum(axis=0)))\n",
    "top_issues = sorted(word_freq.items(), key=lambda x: x[1], reverse=True)[:15]\n",
    "\n",
    "print(\"\\n\" + \"=\" * 60)\n",
    "print(\"TOP RECURRING ISSUES IN CUSTOMER FEEDBACK\")\n",
    "print(\"=\" * 60)\n",
    "for issue, count in top_issues:\n",
    "    print(f\"{issue:30s} : {count:3d} occurrences\")\n",
    "print(\"=\" * 60)\n"
   ]
  },
  {
   "cell_type": "code",
   "execution_count": 12,
   "metadata": {},
   "outputs": [
    {
     "data": {
      "image/png": "[encoded data removed]",
      "text/plain": [
       "<Figure size 1000x600 with 1 Axes>"
      ]
     },
     "metadata": {},
     "output_type": "display_data"
    },
    {
     "name": "stdout",
     "output_type": "stream",
     "text": [
      "Visualization saved\n"
     ]
    }
   ],
   "source": [
    "issues_df = pd.DataFrame(top_issues, columns=['Issue', 'Count'])\n",
    "\n",
    "plt.figure(figsize=(10, 6))\n",
    "plt.barh(issues_df['Issue'], issues_df['Count'], color='coral')\n",
    "plt.xlabel('Number of Mentions', fontsize=11)\n",
    "plt.ylabel('Issue', fontsize=11)\n",
    "plt.title('Recurring Issues in Customer Feedback', fontsize=13, fontweight='bold')\n",
    "plt.tight_layout()\n",
    "plt.savefig('recurring_issues_chart.png', dpi=300, bbox_inches='tight')\n",
    "plt.show()\n",
    "print(\"Visualization saved\")\n"
   ]
  },
  {
   "cell_type": "markdown",
   "metadata": {},
   "source": [
    "## 2. Customer Satisfaction Score Prediction\n"
   ]
  },
  {
   "cell_type": "code",
   "execution_count": 13,
   "metadata": {},
   "outputs": [
    {
     "name": "stdout",
     "output_type": "stream",
     "text": [
      "Monthly Satisfaction Trends:\n",
      "  YearMonth  Avg_Rating  Review_Count YearMonth_str\n",
      "0   2018-09    3.937238           239       2018-09\n",
      "1   2018-10    3.900000            20       2018-10\n"
     ]
    }
   ],
   "source": [
    "df_time = df[df['Date_Parsed'].notna()].copy()\n",
    "df_time['YearMonth'] = df_time['Date_Parsed'].dt.to_period('M')\n",
    "\n",
    "monthly_stats = df_time.groupby('YearMonth').agg({\n",
    "    'Rating_Numeric': ['mean', 'count']\n",
    "}).reset_index()\n",
    "\n",
    "monthly_stats.columns = ['YearMonth', 'Avg_Rating', 'Review_Count']\n",
    "monthly_stats['YearMonth_str'] = monthly_stats['YearMonth'].astype(str)\n",
    "\n",
    "print(\"Monthly Satisfaction Trends:\")\n",
    "print(monthly_stats)\n"
   ]
  },
  {
   "cell_type": "code",
   "execution_count": 14,
   "metadata": {},
   "outputs": [
    {
     "name": "stdout",
     "output_type": "stream",
     "text": [
      "\n",
      "============================================================\n",
      "CUSTOMER SATISFACTION FORECAST\n",
      "============================================================\n",
      "Current Average Rating: 3.90\n",
      "Predicted Next Month Rating: 3.86\n",
      "Trend: Declining\n",
      "============================================================\n"
     ]
    }
   ],
   "source": [
    "monthly_stats['Month_Index'] = range(len(monthly_stats))\n",
    "\n",
    "X = monthly_stats[['Month_Index']]\n",
    "y = monthly_stats['Avg_Rating']\n",
    "\n",
    "model = LinearRegression()\n",
    "model.fit(X, y)\n",
    "\n",
    "next_month_index = len(monthly_stats)\n",
    "next_month_prediction = model.predict([[next_month_index]])[0]\n",
    "\n",
    "print(\"\\n\" + \"=\" * 60)\n",
    "print(\"CUSTOMER SATISFACTION FORECAST\")\n",
    "print(\"=\" * 60)\n",
    "print(f\"Current Average Rating: {monthly_stats['Avg_Rating'].iloc[-1]:.2f}\")\n",
    "print(f\"Predicted Next Month Rating: {next_month_prediction:.2f}\")\n",
    "print(f\"Trend: {'Improving' if next_month_prediction > monthly_stats['Avg_Rating'].iloc[-1] else 'Declining'}\")\n",
    "print(\"=\" * 60)\n"
   ]
  },
  {
   "cell_type": "code",
   "execution_count": 15,
   "metadata": {},
   "outputs": [
    {
     "data": {
      "image/png": "[encoded data removed]",
      "text/plain": [
       "<Figure size 1200x1000 with 2 Axes>"
      ]
     },
     "metadata": {},
     "output_type": "display_data"
    },
    {
     "name": "stdout",
     "output_type": "stream",
     "text": [
      "Visualization saved\n"
     ]
    }
   ],
   "source": [
    "fig, axes = plt.subplots(2, 1, figsize=(12, 10))\n",
    "\n",
    "axes[0].plot(monthly_stats['YearMonth_str'], monthly_stats['Avg_Rating'], \n",
    "             marker='o', linewidth=2, markersize=8, color='#2ecc71', label='Actual')\n",
    "axes[0].axhline(y=next_month_prediction, color='red', linestyle='--', \n",
    "                linewidth=2, label=f'Forecast: {next_month_prediction:.2f}')\n",
    "axes[0].set_title('Customer Satisfaction Trend and Forecast', fontsize=13, fontweight='bold')\n",
    "axes[0].set_ylabel('Average Rating', fontsize=11)\n",
    "axes[0].legend()\n",
    "axes[0].grid(True, alpha=0.3)\n",
    "axes[0].tick_params(axis='x', rotation=45)\n",
    "\n",
    "axes[1].bar(monthly_stats['YearMonth_str'], monthly_stats['Review_Count'], \n",
    "            color='#3498db', alpha=0.7)\n",
    "axes[1].set_title('Review Volume Over Time', fontsize=13, fontweight='bold')\n",
    "axes[1].set_xlabel('Month', fontsize=11)\n",
    "axes[1].set_ylabel('Number of Reviews', fontsize=11)\n",
    "axes[1].grid(True, alpha=0.3, axis='y')\n",
    "axes[1].tick_params(axis='x', rotation=45)\n",
    "\n",
    "plt.tight_layout()\n",
    "plt.savefig('satisfaction_forecast_chart.png', dpi=300, bbox_inches='tight')\n",
    "plt.show()\n",
    "print(\"Visualization saved\")\n"
   ]
  },
  {
   "cell_type": "markdown",
   "metadata": {},
   "source": [
    "## 3. Generate PDF Report\n"
   ]
  },
  {
   "cell_type": "code",
   "execution_count": 16,
   "metadata": {},
   "outputs": [
    {
     "name": "stdout",
     "output_type": "stream",
     "text": [
      "\n",
      "PDF Report generated: AI_insights_report.pdf\n",
      "\n",
      "============================================================\n",
      "PART 4 COMPLETED\n",
      "============================================================\n",
      "Deliverables:\n",
      "1. Recurring issues identified\n",
      "2. Satisfaction forecast generated\n",
      "3. Visualizations created\n",
      "4. AI_insights_report.pdf\n",
      "============================================================\n"
     ]
    }
   ],
   "source": [
    "pdf_filename = 'AI_insights_report.pdf'\n",
    "\n",
    "with PdfPages(pdf_filename) as pdf:\n",
    "    fig = plt.figure(figsize=(11, 8.5))\n",
    "    fig.text(0.5, 0.95, 'AI INSIGHTS REPORT', ha='center', fontsize=20, fontweight='bold')\n",
    "    fig.text(0.5, 0.90, 'Customer Feedback Analysis', ha='center', fontsize=14)\n",
    "    fig.text(0.5, 0.85, f'Generated: {datetime.now().strftime(\"%Y-%m-%d %H:%M\")}', \n",
    "             ha='center', fontsize=10)\n",
    "    \n",
    "    report_text = f\"\"\"\n",
    "EXECUTIVE SUMMARY\n",
    "{'='*70}\n",
    "\n",
    "Total Reviews Analyzed: {len(df)}\n",
    "Analysis Period: {df['Date_Parsed'].min().strftime('%Y-%m')} to {df['Date_Parsed'].max().strftime('%Y-%m')}\n",
    "Average Satisfaction Score: {df['Rating_Numeric'].mean():.2f}/5.0\n",
    "\n",
    "SENTIMENT DISTRIBUTION\n",
    "{'='*70}\n",
    "Positive Reviews: {(df['Sentiment'] == 'Positive').sum()} ({(df['Sentiment'] == 'Positive').sum()/len(df)*100:.1f}%)\n",
    "Neutral Reviews: {(df['Sentiment'] == 'Neutral').sum()} ({(df['Sentiment'] == 'Neutral').sum()/len(df)*100:.1f}%)\n",
    "Negative Reviews: {(df['Sentiment'] == 'Negative').sum()} ({(df['Sentiment'] == 'Negative').sum()/len(df)*100:.1f}%)\n",
    "\n",
    "TOP RECURRING ISSUES\n",
    "{'='*70}\n",
    "\"\"\"\n",
    "    \n",
    "    for i, (issue, count) in enumerate(top_issues[:10], 1):\n",
    "        report_text += f\"{i}. {issue}: {count} mentions\\\\n\"\n",
    "    \n",
    "    report_text += f\"\"\"\n",
    "\n",
    "CUSTOMER SATISFACTION FORECAST\n",
    "{'='*70}\n",
    "Current Rating: {monthly_stats['Avg_Rating'].iloc[-1]:.2f}\n",
    "Forecasted Next Month: {next_month_prediction:.2f}\n",
    "Trend: {'Improving' if next_month_prediction > monthly_stats['Avg_Rating'].iloc[-1] else 'Declining'}\n",
    "\n",
    "RECOMMENDATIONS\n",
    "{'='*70}\n",
    "1. Address top recurring issue: {top_issues[0][0]}\n",
    "2. Monitor satisfaction trends closely\n",
    "3. Focus on reducing negative sentiment\n",
    "4. Implement feedback-driven improvements\n",
    "\"\"\"\n",
    "    \n",
    "    fig.text(0.1, 0.75, report_text, ha='left', va='top', fontsize=9, \n",
    "             family='monospace', verticalalignment='top')\n",
    "    \n",
    "    pdf.savefig(fig, bbox_inches='tight')\n",
    "    plt.close()\n",
    "    \n",
    "    fig = plt.figure(figsize=(11, 8.5))\n",
    "    ax = fig.add_subplot(111)\n",
    "    img = plt.imread('recurring_issues_chart.png')\n",
    "    ax.imshow(img)\n",
    "    ax.axis('off')\n",
    "    ax.set_title('Recurring Issues Visualization', fontsize=14, fontweight='bold', pad=20)\n",
    "    pdf.savefig(fig, bbox_inches='tight')\n",
    "    plt.close()\n",
    "    \n",
    "    fig = plt.figure(figsize=(11, 8.5))\n",
    "    ax = fig.add_subplot(111)\n",
    "    img = plt.imread('satisfaction_forecast_chart.png')\n",
    "    ax.imshow(img)\n",
    "    ax.axis('off')\n",
    "    ax.set_title('Satisfaction Forecast Visualization', fontsize=14, fontweight='bold', pad=20)\n",
    "    pdf.savefig(fig, bbox_inches='tight')\n",
    "    plt.close()\n",
    "\n",
    "print(f\"\\nPDF Report generated: {pdf_filename}\")\n",
    "print(\"\\n\" + \"=\" * 60)\n",
    "print(\"PART 4 COMPLETED\")\n",
    "print(\"=\" * 60)\n",
    "print(\"Deliverables:\")\n",
    "print(\"1. Recurring issues identified\")\n",
    "print(\"2. Satisfaction forecast generated\")\n",
    "print(\"3. Visualizations created\")\n",
    "print(\"4. AI_insights_report.pdf\")\n",
    "print(\"=\" * 60)\n"
   ]
  }
 ],
 "metadata": {
  "kernelspec": {
   "display_name": "venv",
   "language": "python",
   "name": "python3"
  },
  "language_info": {
   "codemirror_mode": {
    "name": "ipython",
    "version": 3
   },
   "file_extension": ".py",
   "mimetype": "text/x-python",
   "name": "python",
   "nbconvert_exporter": "python",
   "pygments_lexer": "ipython3",
   "version": "3.13.8"
  }
 },
 "nbformat": 4,
 "nbformat_minor": 2
}
