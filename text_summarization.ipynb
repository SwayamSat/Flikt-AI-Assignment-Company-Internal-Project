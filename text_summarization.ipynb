{
  "cells": [
    {
      "cell_type": "markdown",
      "metadata": {},
      "source": [
        "# Part 3: Text Summarization\n",
        "## AI-Powered Customer Feedback Summarization\n"
      ]
    },
    {
      "cell_type": "code",
      "execution_count": 2,
      "metadata": {},
      "outputs": [
        {
          "name": "stderr",
          "output_type": "stream",
          "text": [
            "d:\\Projects\\Flikt\\venv\\Lib\\site-packages\\tqdm\\auto.py:21: TqdmWarning: IProgress not found. Please update jupyter and ipywidgets. See https://ipywidgets.readthedocs.io/en/stable/user_install.html\n",
            "  from .autonotebook import tqdm as notebook_tqdm\n"
          ]
        }
      ],
      "source": [
        "import pandas as pd\n",
        "import numpy as np\n",
        "from transformers import pipeline\n",
        "from sklearn.feature_extraction.text import TfidfVectorizer\n",
        "from sklearn.metrics.pairwise import cosine_similarity\n",
        "import nltk\n",
        "from nltk.tokenize import sent_tokenize\n",
        "import warnings\n",
        "warnings.filterwarnings('ignore')\n"
      ]
    },
    {
      "cell_type": "code",
      "execution_count": null,
      "metadata": {},
      "outputs": [
        {
          "name": "stdout",
          "output_type": "stream",
          "text": [
            "NLTK data downloaded\n"
          ]
        }
      ],
      "source": [
        "nltk.download('punkt', quiet=True)\n"
      ]
    },
    {
      "cell_type": "markdown",
      "metadata": {},
      "source": [
        "## Load Dataset\n"
      ]
    },
    {
      "cell_type": "code",
      "execution_count": 4,
      "metadata": {},
      "outputs": [
        {
          "name": "stdout",
          "output_type": "stream",
          "text": [
            "Dataset shape: (259, 18)\n",
            "\n",
            "Columns: ['Review Title', 'Customer name', 'Rating', 'Rating_Numeric', 'Date', 'Date_Parsed', 'Category', 'Comments', 'Useful', 'Helpful_Count', 'Review_Title_Clean', 'Comments_Clean', 'Combined_Text', 'Review_Title_Processed', 'Comments_Processed', 'Combined_Text_Processed', 'Text_Length', 'Word_Count']\n",
            "\n",
            "Records with text: 259\n"
          ]
        },
        {
          "data": {
            "text/html": [
              "<div>\n",
              "<style scoped>\n",
              "    .dataframe tbody tr th:only-of-type {\n",
              "        vertical-align: middle;\n",
              "    }\n",
              "\n",
              "    .dataframe tbody tr th {\n",
              "        vertical-align: top;\n",
              "    }\n",
              "\n",
              "    .dataframe thead th {\n",
              "        text-align: right;\n",
              "    }\n",
              "</style>\n",
              "<table border=\"1\" class=\"dataframe\">\n",
              "  <thead>\n",
              "    <tr style=\"text-align: right;\">\n",
              "      <th></th>\n",
              "      <th>Review Title</th>\n",
              "      <th>Customer name</th>\n",
              "      <th>Rating</th>\n",
              "      <th>Rating_Numeric</th>\n",
              "      <th>Date</th>\n",
              "      <th>Date_Parsed</th>\n",
              "      <th>Category</th>\n",
              "      <th>Comments</th>\n",
              "      <th>Useful</th>\n",
              "      <th>Helpful_Count</th>\n",
              "      <th>Review_Title_Clean</th>\n",
              "      <th>Comments_Clean</th>\n",
              "      <th>Combined_Text</th>\n",
              "      <th>Review_Title_Processed</th>\n",
              "      <th>Comments_Processed</th>\n",
              "      <th>Combined_Text_Processed</th>\n",
              "      <th>Text_Length</th>\n",
              "      <th>Word_Count</th>\n",
              "    </tr>\n",
              "  </thead>\n",
              "  <tbody>\n",
              "    <tr>\n",
              "      <th>0</th>\n",
              "      <td>Another Midrange killer Smartphone by Xiaomi</td>\n",
              "      <td>Rishikumar Thakur</td>\n",
              "      <td>4.0 out of 5 stars</td>\n",
              "      <td>4.0</td>\n",
              "      <td>on 1 October 2018</td>\n",
              "      <td>2018-10-01</td>\n",
              "      <td>Display</td>\n",
              "      <td>Another Midrange killer Smartphone by Xiaomi\\n...</td>\n",
              "      <td></td>\n",
              "      <td>0</td>\n",
              "      <td>Another Midrange killer Smartphone by Xiaomi</td>\n",
              "      <td>Another Midrange killer Smartphone by Xiaomi M...</td>\n",
              "      <td>Another Midrange killer Smartphone by Xiaomi A...</td>\n",
              "      <td>another midrange killer smartphone xiaomi</td>\n",
              "      <td>another midrange killer smartphone xiaomi majo...</td>\n",
              "      <td>another midrange killer smartphone xiaomi anot...</td>\n",
              "      <td>4579</td>\n",
              "      <td>860</td>\n",
              "    </tr>\n",
              "    <tr>\n",
              "      <th>1</th>\n",
              "      <td>vry small size mobile</td>\n",
              "      <td>Raza ji</td>\n",
              "      <td>3.0 out of 5 stars</td>\n",
              "      <td>3.0</td>\n",
              "      <td>on 15 September 2018</td>\n",
              "      <td>2018-09-15</td>\n",
              "      <td>Others</td>\n",
              "      <td>All ok but vry small size mobile</td>\n",
              "      <td>7 people found this helpful</td>\n",
              "      <td>7</td>\n",
              "      <td>vry small size mobile</td>\n",
              "      <td>All ok but vry small size mobile</td>\n",
              "      <td>vry small size mobile All ok but vry small siz...</td>\n",
              "      <td>vry small size mobile</td>\n",
              "      <td>vry small size mobile</td>\n",
              "      <td>vry small size mobile vry small size mobile</td>\n",
              "      <td>54</td>\n",
              "      <td>11</td>\n",
              "    </tr>\n",
              "    <tr>\n",
              "      <th>2</th>\n",
              "      <td>Full display not working in all application.</td>\n",
              "      <td>Vaibhav Patel</td>\n",
              "      <td>3.0 out of 5 stars</td>\n",
              "      <td>3.0</td>\n",
              "      <td>on 18 September 2018</td>\n",
              "      <td>2018-09-18</td>\n",
              "      <td>Others</td>\n",
              "      <td>Quite good</td>\n",
              "      <td>7 people found this helpful</td>\n",
              "      <td>7</td>\n",
              "      <td>Full display not working in all application.</td>\n",
              "      <td>Quite good</td>\n",
              "      <td>Full display not working in all application. Q...</td>\n",
              "      <td>full display working application</td>\n",
              "      <td>quite good</td>\n",
              "      <td>full display working application quite good</td>\n",
              "      <td>55</td>\n",
              "      <td>9</td>\n",
              "    </tr>\n",
              "    <tr>\n",
              "      <th>3</th>\n",
              "      <td>Value for Money</td>\n",
              "      <td>Amazon Customer</td>\n",
              "      <td>5.0 out of 5 stars</td>\n",
              "      <td>5.0</td>\n",
              "      <td>on 28 September 2018</td>\n",
              "      <td>2018-09-28</td>\n",
              "      <td>Display</td>\n",
              "      <td>Redmi has always have been the the king of bud...</td>\n",
              "      <td>2 people found this helpful</td>\n",
              "      <td>2</td>\n",
              "      <td>Value for Money</td>\n",
              "      <td>Redmi has always have been the the king of bud...</td>\n",
              "      <td>Value for Money Redmi has always have been the...</td>\n",
              "      <td>value money</td>\n",
              "      <td>redmi always king budget segment.and yet anoth...</td>\n",
              "      <td>value money redmi always king budget segment.a...</td>\n",
              "      <td>857</td>\n",
              "      <td>154</td>\n",
              "    </tr>\n",
              "    <tr>\n",
              "      <th>4</th>\n",
              "      <td>Not worth for the money</td>\n",
              "      <td>Sudhakaran Wadakkancheri</td>\n",
              "      <td>2.0 out of 5 stars</td>\n",
              "      <td>2.0</td>\n",
              "      <td>on 18 September 2018</td>\n",
              "      <td>2018-09-18</td>\n",
              "      <td>Others</td>\n",
              "      <td>worst product from MI. I am a hardcore fan of ...</td>\n",
              "      <td>6 people found this helpful</td>\n",
              "      <td>6</td>\n",
              "      <td>Not worth for the money</td>\n",
              "      <td>worst product from MI. I am a hardcore fan of ...</td>\n",
              "      <td>Not worth for the money worst product from MI....</td>\n",
              "      <td>worth money</td>\n",
              "      <td>worst product hardcore fan one really disappoi...</td>\n",
              "      <td>worth money worst product hardcore fan one rea...</td>\n",
              "      <td>108</td>\n",
              "      <td>21</td>\n",
              "    </tr>\n",
              "  </tbody>\n",
              "</table>\n",
              "</div>"
            ],
            "text/plain": [
              "                                   Review Title             Customer name  \\\n",
              "0  Another Midrange killer Smartphone by Xiaomi         Rishikumar Thakur   \n",
              "1                         vry small size mobile                   Raza ji   \n",
              "2  Full display not working in all application.             Vaibhav Patel   \n",
              "3                               Value for Money           Amazon Customer   \n",
              "4                       Not worth for the money  Sudhakaran Wadakkancheri   \n",
              "\n",
              "               Rating  Rating_Numeric                  Date Date_Parsed  \\\n",
              "0  4.0 out of 5 stars             4.0     on 1 October 2018  2018-10-01   \n",
              "1  3.0 out of 5 stars             3.0  on 15 September 2018  2018-09-15   \n",
              "2  3.0 out of 5 stars             3.0  on 18 September 2018  2018-09-18   \n",
              "3  5.0 out of 5 stars             5.0  on 28 September 2018  2018-09-28   \n",
              "4  2.0 out of 5 stars             2.0  on 18 September 2018  2018-09-18   \n",
              "\n",
              "  Category                                           Comments  \\\n",
              "0  Display  Another Midrange killer Smartphone by Xiaomi\\n...   \n",
              "1   Others                   All ok but vry small size mobile   \n",
              "2   Others                                         Quite good   \n",
              "3  Display  Redmi has always have been the the king of bud...   \n",
              "4   Others  worst product from MI. I am a hardcore fan of ...   \n",
              "\n",
              "                        Useful  Helpful_Count  \\\n",
              "0                                           0   \n",
              "1  7 people found this helpful              7   \n",
              "2  7 people found this helpful              7   \n",
              "3  2 people found this helpful              2   \n",
              "4  6 people found this helpful              6   \n",
              "\n",
              "                             Review_Title_Clean  \\\n",
              "0  Another Midrange killer Smartphone by Xiaomi   \n",
              "1                         vry small size mobile   \n",
              "2  Full display not working in all application.   \n",
              "3                               Value for Money   \n",
              "4                       Not worth for the money   \n",
              "\n",
              "                                      Comments_Clean  \\\n",
              "0  Another Midrange killer Smartphone by Xiaomi M...   \n",
              "1                   All ok but vry small size mobile   \n",
              "2                                         Quite good   \n",
              "3  Redmi has always have been the the king of bud...   \n",
              "4  worst product from MI. I am a hardcore fan of ...   \n",
              "\n",
              "                                       Combined_Text  \\\n",
              "0  Another Midrange killer Smartphone by Xiaomi A...   \n",
              "1  vry small size mobile All ok but vry small siz...   \n",
              "2  Full display not working in all application. Q...   \n",
              "3  Value for Money Redmi has always have been the...   \n",
              "4  Not worth for the money worst product from MI....   \n",
              "\n",
              "                      Review_Title_Processed  \\\n",
              "0  another midrange killer smartphone xiaomi   \n",
              "1                      vry small size mobile   \n",
              "2           full display working application   \n",
              "3                                value money   \n",
              "4                                worth money   \n",
              "\n",
              "                                  Comments_Processed  \\\n",
              "0  another midrange killer smartphone xiaomi majo...   \n",
              "1                              vry small size mobile   \n",
              "2                                         quite good   \n",
              "3  redmi always king budget segment.and yet anoth...   \n",
              "4  worst product hardcore fan one really disappoi...   \n",
              "\n",
              "                             Combined_Text_Processed  Text_Length  Word_Count  \n",
              "0  another midrange killer smartphone xiaomi anot...         4579         860  \n",
              "1        vry small size mobile vry small size mobile           54          11  \n",
              "2        full display working application quite good           55           9  \n",
              "3  value money redmi always king budget segment.a...          857         154  \n",
              "4  worth money worst product hardcore fan one rea...          108          21  "
            ]
          },
          "execution_count": 4,
          "metadata": {},
          "output_type": "execute_result"
        }
      ],
      "source": [
        "df = pd.read_csv('cleaned_customer_feedback.csv')\n",
        "print(f\"Dataset shape: {df.shape}\")\n",
        "print(f\"\\nColumns: {df.columns.tolist()}\")\n",
        "\n",
        "df_with_text = df[df['Combined_Text'].notna() & (df['Combined_Text'].str.strip() != '')]\n",
        "print(f\"\\nRecords with text: {len(df_with_text)}\")\n",
        "df_with_text.head()\n"
      ]
    },
    {
      "cell_type": "markdown",
      "metadata": {},
      "source": [
        "## Method 1: Transformer-Based Summarization (T5)\n"
      ]
    },
    {
      "cell_type": "code",
      "execution_count": null,
      "metadata": {},
      "outputs": [
        {
          "name": "stdout",
          "output_type": "stream",
          "text": [
            "Loading T5 summarization model...\n",
            "This may take a few minutes on first run (downloading model)\n"
          ]
        },
        {
          "name": "stderr",
          "output_type": "stream",
          "text": [
            "Xet Storage is enabled for this repo, but the 'hf_xet' package is not installed. Falling back to regular HTTP download. For better performance, install the package with: `pip install huggingface_hub[hf_xet]` or `pip install hf_xet`\n"
          ]
        }
      ],
      "source": [
        "print(\"Loading T5 summarization model...\")\n",
        "print(\"This may take a few minutes on first run (downloading model)\")\n",
        "\n",
        "summarizer = pipeline(\"summarization\", model=\"t5-small\")\n",
        "print(\"T5 model loaded successfully\")\n"
      ]
    },
    {
      "cell_type": "code",
      "execution_count": null,
      "metadata": {},
      "outputs": [],
      "source": [
        "def summarize_with_t5(text, max_length=100, min_length=30):\n",
        "    if not text or len(text.strip()) < 50:\n",
        "        return text\n",
        "    \n",
        "    try:\n",
        "        text = text[:1024]\n",
        "        summary = summarizer(text, max_length=max_length, min_length=min_length, do_sample=False)\n",
        "        return summary[0]['summary_text']\n",
        "    except Exception as e:\n",
        "        return f\"Error: {str(e)}\"\n"
      ]
    },
    {
      "cell_type": "markdown",
      "metadata": {},
      "source": [
        "## Method 2: Extractive Summarization (TF-IDF + Cosine Similarity)\n"
      ]
    },
    {
      "cell_type": "code",
      "execution_count": null,
      "metadata": {},
      "outputs": [],
      "source": [
        "def extractive_summarize(text, num_sentences=3):\n",
        "    if not text or len(text.strip()) < 50:\n",
        "        return text\n",
        "    \n",
        "    try:\n",
        "        sentences = sent_tokenize(text)\n",
        "        \n",
        "        if len(sentences) <= num_sentences:\n",
        "            return text\n",
        "        \n",
        "        vectorizer = TfidfVectorizer()\n",
        "        tfidf_matrix = vectorizer.fit_transform(sentences)\n",
        "        \n",
        "        similarity_matrix = cosine_similarity(tfidf_matrix, tfidf_matrix)\n",
        "        \n",
        "        sentence_scores = similarity_matrix.sum(axis=1)\n",
        "        \n",
        "        ranked_sentences = [sentences[i] for i in sentence_scores.argsort()[-num_sentences:][::-1]]\n",
        "        \n",
        "        summary = ' '.join(ranked_sentences)\n",
        "        return summary\n",
        "    \n",
        "    except Exception as e:\n",
        "        return text\n"
      ]
    },
    {
      "cell_type": "markdown",
      "metadata": {},
      "source": [
        "## Generate Summaries for Sample Reviews\n"
      ]
    },
    {
      "cell_type": "code",
      "execution_count": null,
      "metadata": {},
      "outputs": [],
      "source": [
        "long_reviews = df_with_text[df_with_text['Word_Count'] > 50].head(5)\n",
        "\n",
        "print(\"=\" * 80)\n",
        "print(\"SAMPLE SUMMARIZATIONS\")\n",
        "print(\"=\" * 80)\n",
        "\n",
        "for idx, row in long_reviews.iterrows():\n",
        "    text = row['Combined_Text']\n",
        "    \n",
        "    print(f\"\\n{'='*80}\")\n",
        "    print(f\"Review #{idx + 1}\")\n",
        "    print(f\"{'='*80}\")\n",
        "    print(f\"\\nOriginal Text ({row['Word_Count']} words):\")\n",
        "    print(\"-\" * 80)\n",
        "    print(text[:500] + \"...\" if len(text) > 500 else text)\n",
        "    \n",
        "    print(f\"\\n{'T5 SHORT SUMMARY (30-50 words):'}\")\n",
        "    print(\"-\" * 80)\n",
        "    t5_short = summarize_with_t5(text, max_length=50, min_length=30)\n",
        "    print(t5_short)\n",
        "    \n",
        "    print(f\"\\n{'T5 DETAILED SUMMARY (60-100 words):'}\")\n",
        "    print(\"-\" * 80)\n",
        "    t5_detailed = summarize_with_t5(text, max_length=100, min_length=60)\n",
        "    print(t5_detailed)\n",
        "    \n",
        "    print(f\"\\n{'EXTRACTIVE SUMMARY (Top 3 sentences):'}\")\n",
        "    print(\"-\" * 80)\n",
        "    extractive = extractive_summarize(text, num_sentences=3)\n",
        "    print(extractive)\n",
        "    \n",
        "    print(\"\\n\")\n"
      ]
    },
    {
      "cell_type": "markdown",
      "metadata": {},
      "source": [
        "## Apply Summarization to Entire Dataset\n"
      ]
    },
    {
      "cell_type": "code",
      "execution_count": null,
      "metadata": {},
      "outputs": [],
      "source": [
        "print(\"Generating short summaries for all reviews...\")\n",
        "df_with_text['Short_Summary'] = df_with_text['Combined_Text'].apply(\n",
        "    lambda x: summarize_with_t5(str(x), max_length=50, min_length=20) if len(str(x)) > 50 else str(x)\n",
        ")\n",
        "\n",
        "print(\"Generating detailed summaries for all reviews...\")\n",
        "df_with_text['Detailed_Summary'] = df_with_text['Combined_Text'].apply(\n",
        "    lambda x: summarize_with_t5(str(x), max_length=100, min_length=40) if len(str(x)) > 50 else str(x)\n",
        ")\n",
        "\n",
        "print(\"Generating extractive summaries for all reviews...\")\n",
        "df_with_text['Extractive_Summary'] = df_with_text['Combined_Text'].apply(\n",
        "    lambda x: extractive_summarize(str(x), num_sentences=2)\n",
        ")\n",
        "\n",
        "print(\"Summarization completed for all records!\")\n"
      ]
    },
    {
      "cell_type": "code",
      "execution_count": null,
      "metadata": {},
      "outputs": [],
      "source": [
        "summary_df = df_with_text[['Review Title', 'Customer name', 'Rating_Numeric', \n",
        "                            'Combined_Text', 'Short_Summary', 'Detailed_Summary', \n",
        "                            'Extractive_Summary', 'Word_Count']]\n",
        "\n",
        "summary_df.to_csv('summarized_feedback.csv', index=False)\n",
        "print(\"Summarized dataset saved to 'summarized_feedback.csv'\")\n"
      ]
    },
    {
      "cell_type": "markdown",
      "metadata": {},
      "source": []
    },
    {
      "cell_type": "code",
      "execution_count": null,
      "metadata": {},
      "outputs": [],
      "source": [
        "df_full = pd.read_csv('cleaned_customer_feedback.csv')\n",
        "df_summarized = pd.read_csv('summarized_feedback.csv')\n",
        "\n",
        "df_merged = df_full.merge(df_summarized[['Combined_Text', 'Short_Summary', 'Detailed_Summary']], \n",
        "                          on='Combined_Text', how='left')\n",
        "\n",
        "category_summaries = {}\n",
        "\n",
        "for category in df_merged['Category'].unique():\n",
        "    category_reviews = df_merged[df_merged['Category'] == category]['Combined_Text'].head(10).tolist()\n",
        "    combined_text = ' '.join([str(text) for text in category_reviews if pd.notna(text)])\n",
        "    \n",
        "    if len(combined_text) > 100:\n",
        "        category_summary = summarize_with_t5(combined_text[:1024], max_length=150, min_length=50)\n",
        "        category_summaries[category] = category_summary\n",
        "\n",
        "print(\"=\" * 80)\n",
        "print(\"CATEGORY-WISE SUMMARIES\")\n",
        "print(\"=\" * 80)\n",
        "for category, summary in category_summaries.items():\n",
        "    print(f\"\\n{category.upper()}:\")\n",
        "    print(\"-\" * 80)\n",
        "    print(summary)\n",
        "    print()\n"
      ]
    },
    {
      "cell_type": "markdown",
      "metadata": {},
      "source": [
        "## Sentiment-based Summarization\n"
      ]
    },
    {
      "cell_type": "code",
      "execution_count": null,
      "metadata": {},
      "outputs": [],
      "source": [
        "def create_sentiment_label(rating):\n",
        "    if rating >= 4.0:\n",
        "        return 'Positive'\n",
        "    elif rating >= 3.0:\n",
        "        return 'Neutral'\n",
        "    else:\n",
        "        return 'Negative'\n",
        "\n",
        "df_merged['Sentiment'] = df_merged['Rating_Numeric'].apply(create_sentiment_label)\n",
        "\n",
        "sentiment_summaries = {}\n",
        "\n",
        "for sentiment in ['Positive', 'Negative', 'Neutral']:\n",
        "    sentiment_reviews = df_merged[df_merged['Sentiment'] == sentiment]['Combined_Text'].head(10).tolist()\n",
        "    combined_text = ' '.join([str(text) for text in sentiment_reviews if pd.notna(text)])\n",
        "    \n",
        "    if len(combined_text) > 100:\n",
        "        sentiment_summary = summarize_with_t5(combined_text[:1024], max_length=150, min_length=50)\n",
        "        sentiment_summaries[sentiment] = sentiment_summary\n",
        "\n",
        "print(\"=\" * 80)\n",
        "print(\"SENTIMENT-BASED SUMMARIES\")\n",
        "print(\"=\" * 80)\n",
        "for sentiment, summary in sentiment_summaries.items():\n",
        "    print(f\"\\n{sentiment.upper()} REVIEWS:\")\n",
        "    print(\"-\" * 80)\n",
        "    print(summary)\n",
        "    print()\n"
      ]
    },
    {
      "cell_type": "markdown",
      "metadata": {},
      "source": [
        "## Custom Summarization Function\n"
      ]
    },
    {
      "cell_type": "code",
      "execution_count": null,
      "metadata": {},
      "outputs": [],
      "source": [
        "def smart_summarize(text, method='t5', length='short'):\n",
        "    if method == 't5':\n",
        "        if length == 'short':\n",
        "            return summarize_with_t5(text, max_length=50, min_length=20)\n",
        "        else:\n",
        "            return summarize_with_t5(text, max_length=100, min_length=50)\n",
        "    elif method == 'extractive':\n",
        "        num_sentences = 2 if length == 'short' else 4\n",
        "        return extractive_summarize(text, num_sentences=num_sentences)\n",
        "    else:\n",
        "        return text\n"
      ]
    },
    {
      "cell_type": "markdown",
      "metadata": {},
      "source": [
        "## Test Custom Function with Examples\n"
      ]
    },
    {
      "cell_type": "code",
      "execution_count": null,
      "metadata": {},
      "outputs": [],
      "source": [
        "test_review = df_with_text.iloc[0]['Combined_Text']\n",
        "\n",
        "print(\"=\" * 80)\n",
        "print(\"CUSTOM SUMMARIZATION FUNCTION DEMO\")\n",
        "print(\"=\" * 80)\n",
        "print(f\"\\nOriginal Review:\")\n",
        "print(\"-\" * 80)\n",
        "print(test_review[:300] + \"...\" if len(test_review) > 300 else test_review)\n",
        "\n",
        "print(f\"\\n\\nT5 Short Summary:\")\n",
        "print(\"-\" * 80)\n",
        "print(smart_summarize(test_review, method='t5', length='short'))\n",
        "\n",
        "print(f\"\\n\\nT5 Detailed Summary:\")\n",
        "print(\"-\" * 80)\n",
        "print(smart_summarize(test_review, method='t5', length='detailed'))\n",
        "\n",
        "print(f\"\\n\\nExtractive Short Summary:\")\n",
        "print(\"-\" * 80)\n",
        "print(smart_summarize(test_review, method='extractive', length='short'))\n",
        "\n",
        "print(f\"\\n\\nExtractive Detailed Summary:\")\n",
        "print(\"-\" * 80)\n",
        "print(smart_summarize(test_review, method='extractive', length='detailed'))\n"
      ]
    },
    {
      "cell_type": "markdown",
      "metadata": {},
      "source": [
        "## Summary Statistics\n"
      ]
    },
    {
      "cell_type": "code",
      "execution_count": null,
      "metadata": {},
      "outputs": [],
      "source": [
        "summary_stats = pd.read_csv('summarized_feedback.csv')\n",
        "\n",
        "summary_stats['Original_Length'] = summary_stats['Combined_Text'].str.len()\n",
        "summary_stats['Short_Summary_Length'] = summary_stats['Short_Summary'].str.len()\n",
        "summary_stats['Detailed_Summary_Length'] = summary_stats['Detailed_Summary'].str.len()\n",
        "summary_stats['Compression_Ratio_Short'] = (summary_stats['Short_Summary_Length'] / summary_stats['Original_Length'] * 100).round(2)\n",
        "summary_stats['Compression_Ratio_Detailed'] = (summary_stats['Detailed_Summary_Length'] / summary_stats['Original_Length'] * 100).round(2)\n",
        "\n",
        "print(\"=\" * 80)\n",
        "print(\"SUMMARIZATION STATISTICS\")\n",
        "print(\"=\" * 80)\n",
        "print(f\"\\nTotal reviews summarized: {len(summary_stats)}\")\n",
        "print(f\"\\nAverage original text length: {summary_stats['Original_Length'].mean():.0f} characters\")\n",
        "print(f\"Average short summary length: {summary_stats['Short_Summary_Length'].mean():.0f} characters\")\n",
        "print(f\"Average detailed summary length: {summary_stats['Detailed_Summary_Length'].mean():.0f} characters\")\n",
        "print(f\"\\nAverage compression ratio (short): {summary_stats['Compression_Ratio_Short'].mean():.1f}%\")\n",
        "print(f\"Average compression ratio (detailed): {summary_stats['Compression_Ratio_Detailed'].mean():.1f}%\")\n",
        "print(\"=\" * 80)\n"
      ]
    },
    {
      "cell_type": "markdown",
      "metadata": {},
      "source": [
        "## Save All Results\n"
      ]
    },
    {
      "cell_type": "code",
      "execution_count": null,
      "metadata": {},
      "outputs": [],
      "source": [
        "import json\n",
        "\n",
        "final_results = {\n",
        "    'category_summaries': category_summaries,\n",
        "    'sentiment_summaries': sentiment_summaries,\n",
        "    'statistics': {\n",
        "        'total_reviews': len(summary_stats),\n",
        "        'avg_original_length': float(summary_stats['Original_Length'].mean()),\n",
        "        'avg_short_summary_length': float(summary_stats['Short_Summary_Length'].mean()),\n",
        "        'avg_detailed_summary_length': float(summary_stats['Detailed_Summary_Length'].mean()),\n",
        "        'avg_compression_ratio_short': float(summary_stats['Compression_Ratio_Short'].mean()),\n",
        "        'avg_compression_ratio_detailed': float(summary_stats['Compression_Ratio_Detailed'].mean())\n",
        "    }\n",
        "}\n",
        "\n",
        "with open('summarization_results.json', 'w') as f:\n",
        "    json.dump(final_results, f, indent=4)\n",
        "\n",
        "print(\"All summarization results saved to 'summarization_results.json'\")\n"
      ]
    },
    {
      "cell_type": "code",
      "execution_count": null,
      "metadata": {},
      "outputs": [
        {
          "name": "stdout",
          "output_type": "stream",
          "text": [
            "\n",
            "================================================================================\n",
            "PART 3: TEXT SUMMARIZATION - COMPLETED\n",
            "================================================================================\n",
            "\n",
            "Deliverables:\n",
            "1. summarized_feedback.csv - All reviews with summaries\n",
            "2. summarization_results.json - Category and sentiment summaries\n",
            "\n",
            "Methods Implemented:\n",
            "- T5 Transformer-based summarization (short & detailed)\n",
            "- Extractive summarization using TF-IDF + Cosine Similarity\n",
            "- Category-wise aggregated summaries\n",
            "- Sentiment-based summaries\n",
            "================================================================================\n"
          ]
        }
      ],
      "source": [
        "print(\"\\n\" + \"=\" * 80)\n",
        "print(\"PART 3: TEXT SUMMARIZATION - COMPLETED\")\n",
        "print(\"=\" * 80)\n",
        "print(\"\\nDeliverables:\")\n",
        "print(\"1. summarized_feedback.csv - All reviews with summaries\")\n",
        "print(\"2. summarization_results.json - Category and sentiment summaries\")\n",
        "print(\"\\nMethods Implemented:\")\n",
        "print(\"- T5 Transformer-based summarization (short & detailed)\")\n",
        "print(\"- Extractive summarization using TF-IDF + Cosine Similarity\")\n",
        "print(\"- Category-wise aggregated summaries\")\n",
        "print(\"- Sentiment-based summaries\")\n",
        "print(\"=\" * 80)\n"
      ]
    }
  ],
  "metadata": {
    "kernelspec": {
      "display_name": "venv",
      "language": "python",
      "name": "python3"
    },
    "language_info": {
      "codemirror_mode": {
        "name": "ipython",
        "version": 3
      },
      "file_extension": ".py",
      "mimetype": "text/x-python",
      "name": "python",
      "nbconvert_exporter": "python",
      "pygments_lexer": "ipython3",
      "version": "3.13.8"
    }
  },
  "nbformat": 4,
  "nbformat_minor": 2
}
