{
  "cells": [
    {
      "cell_type": "markdown",
      "metadata": {},
      "source": [
        "# Part 2: Sentiment Classification Model\n",
        "## Customer Feedback Sentiment Analysis using DistilBERT\n"
      ]
    },
    {
      "cell_type": "code",
      "execution_count": 1,
      "metadata": {},
      "outputs": [
        {
          "name": "stderr",
          "output_type": "stream",
          "text": [
            "d:\\Projects\\Flikt\\venv\\Lib\\site-packages\\tqdm\\auto.py:21: TqdmWarning: IProgress not found. Please update jupyter and ipywidgets. See https://ipywidgets.readthedocs.io/en/stable/user_install.html\n",
            "  from .autonotebook import tqdm as notebook_tqdm\n"
          ]
        }
      ],
      "source": [
        "import pandas as pd\n",
        "import numpy as np\n",
        "import matplotlib.pyplot as plt\n",
        "import seaborn as sns\n",
        "from sklearn.model_selection import train_test_split\n",
        "from sklearn.metrics import accuracy_score, precision_recall_fscore_support, classification_report, confusion_matrix\n",
        "import torch\n",
        "from transformers import DistilBertTokenizer, DistilBertForSequenceClassification, Trainer, TrainingArguments\n",
        "from datasets import Dataset\n",
        "import warnings\n",
        "warnings.filterwarnings('ignore')\n"
      ]
    },
    {
      "cell_type": "code",
      "execution_count": 2,
      "metadata": {},
      "outputs": [
        {
          "name": "stdout",
          "output_type": "stream",
          "text": [
            "Using device: cpu\n"
          ]
        }
      ],
      "source": [
        "device = torch.device('cuda' if torch.cuda.is_available() else 'cpu')\n",
        "print(f\"Using device: {device}\")\n"
      ]
    },
    {
      "cell_type": "markdown",
      "metadata": {},
      "source": [
        "## Load Cleaned Dataset\n"
      ]
    },
    {
      "cell_type": "code",
      "execution_count": 3,
      "metadata": {},
      "outputs": [
        {
          "name": "stdout",
          "output_type": "stream",
          "text": [
            "Dataset shape: (259, 18)\n",
            "\n",
            "Column names: ['Review Title', 'Customer name', 'Rating', 'Rating_Numeric', 'Date', 'Date_Parsed', 'Category', 'Comments', 'Useful', 'Helpful_Count', 'Review_Title_Clean', 'Comments_Clean', 'Combined_Text', 'Review_Title_Processed', 'Comments_Processed', 'Combined_Text_Processed', 'Text_Length', 'Word_Count']\n"
          ]
        },
        {
          "data": {
            "text/html": [
              "<div>\n",
              "<style scoped>\n",
              "    .dataframe tbody tr th:only-of-type {\n",
              "        vertical-align: middle;\n",
              "    }\n",
              "\n",
              "    .dataframe tbody tr th {\n",
              "        vertical-align: top;\n",
              "    }\n",
              "\n",
              "    .dataframe thead th {\n",
              "        text-align: right;\n",
              "    }\n",
              "</style>\n",
              "<table border=\"1\" class=\"dataframe\">\n",
              "  <thead>\n",
              "    <tr style=\"text-align: right;\">\n",
              "      <th></th>\n",
              "      <th>Review Title</th>\n",
              "      <th>Customer name</th>\n",
              "      <th>Rating</th>\n",
              "      <th>Rating_Numeric</th>\n",
              "      <th>Date</th>\n",
              "      <th>Date_Parsed</th>\n",
              "      <th>Category</th>\n",
              "      <th>Comments</th>\n",
              "      <th>Useful</th>\n",
              "      <th>Helpful_Count</th>\n",
              "      <th>Review_Title_Clean</th>\n",
              "      <th>Comments_Clean</th>\n",
              "      <th>Combined_Text</th>\n",
              "      <th>Review_Title_Processed</th>\n",
              "      <th>Comments_Processed</th>\n",
              "      <th>Combined_Text_Processed</th>\n",
              "      <th>Text_Length</th>\n",
              "      <th>Word_Count</th>\n",
              "    </tr>\n",
              "  </thead>\n",
              "  <tbody>\n",
              "    <tr>\n",
              "      <th>0</th>\n",
              "      <td>Another Midrange killer Smartphone by Xiaomi</td>\n",
              "      <td>Rishikumar Thakur</td>\n",
              "      <td>4.0 out of 5 stars</td>\n",
              "      <td>4.0</td>\n",
              "      <td>on 1 October 2018</td>\n",
              "      <td>2018-10-01</td>\n",
              "      <td>Display</td>\n",
              "      <td>Another Midrange killer Smartphone by Xiaomi\\n...</td>\n",
              "      <td></td>\n",
              "      <td>0</td>\n",
              "      <td>Another Midrange killer Smartphone by Xiaomi</td>\n",
              "      <td>Another Midrange killer Smartphone by Xiaomi M...</td>\n",
              "      <td>Another Midrange killer Smartphone by Xiaomi A...</td>\n",
              "      <td>another midrange killer smartphone xiaomi</td>\n",
              "      <td>another midrange killer smartphone xiaomi majo...</td>\n",
              "      <td>another midrange killer smartphone xiaomi anot...</td>\n",
              "      <td>4579</td>\n",
              "      <td>860</td>\n",
              "    </tr>\n",
              "    <tr>\n",
              "      <th>1</th>\n",
              "      <td>vry small size mobile</td>\n",
              "      <td>Raza ji</td>\n",
              "      <td>3.0 out of 5 stars</td>\n",
              "      <td>3.0</td>\n",
              "      <td>on 15 September 2018</td>\n",
              "      <td>2018-09-15</td>\n",
              "      <td>Others</td>\n",
              "      <td>All ok but vry small size mobile</td>\n",
              "      <td>7 people found this helpful</td>\n",
              "      <td>7</td>\n",
              "      <td>vry small size mobile</td>\n",
              "      <td>All ok but vry small size mobile</td>\n",
              "      <td>vry small size mobile All ok but vry small siz...</td>\n",
              "      <td>vry small size mobile</td>\n",
              "      <td>vry small size mobile</td>\n",
              "      <td>vry small size mobile vry small size mobile</td>\n",
              "      <td>54</td>\n",
              "      <td>11</td>\n",
              "    </tr>\n",
              "    <tr>\n",
              "      <th>2</th>\n",
              "      <td>Full display not working in all application.</td>\n",
              "      <td>Vaibhav Patel</td>\n",
              "      <td>3.0 out of 5 stars</td>\n",
              "      <td>3.0</td>\n",
              "      <td>on 18 September 2018</td>\n",
              "      <td>2018-09-18</td>\n",
              "      <td>Others</td>\n",
              "      <td>Quite good</td>\n",
              "      <td>7 people found this helpful</td>\n",
              "      <td>7</td>\n",
              "      <td>Full display not working in all application.</td>\n",
              "      <td>Quite good</td>\n",
              "      <td>Full display not working in all application. Q...</td>\n",
              "      <td>full display working application</td>\n",
              "      <td>quite good</td>\n",
              "      <td>full display working application quite good</td>\n",
              "      <td>55</td>\n",
              "      <td>9</td>\n",
              "    </tr>\n",
              "    <tr>\n",
              "      <th>3</th>\n",
              "      <td>Value for Money</td>\n",
              "      <td>Amazon Customer</td>\n",
              "      <td>5.0 out of 5 stars</td>\n",
              "      <td>5.0</td>\n",
              "      <td>on 28 September 2018</td>\n",
              "      <td>2018-09-28</td>\n",
              "      <td>Display</td>\n",
              "      <td>Redmi has always have been the the king of bud...</td>\n",
              "      <td>2 people found this helpful</td>\n",
              "      <td>2</td>\n",
              "      <td>Value for Money</td>\n",
              "      <td>Redmi has always have been the the king of bud...</td>\n",
              "      <td>Value for Money Redmi has always have been the...</td>\n",
              "      <td>value money</td>\n",
              "      <td>redmi always king budget segment.and yet anoth...</td>\n",
              "      <td>value money redmi always king budget segment.a...</td>\n",
              "      <td>857</td>\n",
              "      <td>154</td>\n",
              "    </tr>\n",
              "    <tr>\n",
              "      <th>4</th>\n",
              "      <td>Not worth for the money</td>\n",
              "      <td>Sudhakaran Wadakkancheri</td>\n",
              "      <td>2.0 out of 5 stars</td>\n",
              "      <td>2.0</td>\n",
              "      <td>on 18 September 2018</td>\n",
              "      <td>2018-09-18</td>\n",
              "      <td>Others</td>\n",
              "      <td>worst product from MI. I am a hardcore fan of ...</td>\n",
              "      <td>6 people found this helpful</td>\n",
              "      <td>6</td>\n",
              "      <td>Not worth for the money</td>\n",
              "      <td>worst product from MI. I am a hardcore fan of ...</td>\n",
              "      <td>Not worth for the money worst product from MI....</td>\n",
              "      <td>worth money</td>\n",
              "      <td>worst product hardcore fan one really disappoi...</td>\n",
              "      <td>worth money worst product hardcore fan one rea...</td>\n",
              "      <td>108</td>\n",
              "      <td>21</td>\n",
              "    </tr>\n",
              "  </tbody>\n",
              "</table>\n",
              "</div>"
            ],
            "text/plain": [
              "                                   Review Title             Customer name  \\\n",
              "0  Another Midrange killer Smartphone by Xiaomi         Rishikumar Thakur   \n",
              "1                         vry small size mobile                   Raza ji   \n",
              "2  Full display not working in all application.             Vaibhav Patel   \n",
              "3                               Value for Money           Amazon Customer   \n",
              "4                       Not worth for the money  Sudhakaran Wadakkancheri   \n",
              "\n",
              "               Rating  Rating_Numeric                  Date Date_Parsed  \\\n",
              "0  4.0 out of 5 stars             4.0     on 1 October 2018  2018-10-01   \n",
              "1  3.0 out of 5 stars             3.0  on 15 September 2018  2018-09-15   \n",
              "2  3.0 out of 5 stars             3.0  on 18 September 2018  2018-09-18   \n",
              "3  5.0 out of 5 stars             5.0  on 28 September 2018  2018-09-28   \n",
              "4  2.0 out of 5 stars             2.0  on 18 September 2018  2018-09-18   \n",
              "\n",
              "  Category                                           Comments  \\\n",
              "0  Display  Another Midrange killer Smartphone by Xiaomi\\n...   \n",
              "1   Others                   All ok but vry small size mobile   \n",
              "2   Others                                         Quite good   \n",
              "3  Display  Redmi has always have been the the king of bud...   \n",
              "4   Others  worst product from MI. I am a hardcore fan of ...   \n",
              "\n",
              "                        Useful  Helpful_Count  \\\n",
              "0                                           0   \n",
              "1  7 people found this helpful              7   \n",
              "2  7 people found this helpful              7   \n",
              "3  2 people found this helpful              2   \n",
              "4  6 people found this helpful              6   \n",
              "\n",
              "                             Review_Title_Clean  \\\n",
              "0  Another Midrange killer Smartphone by Xiaomi   \n",
              "1                         vry small size mobile   \n",
              "2  Full display not working in all application.   \n",
              "3                               Value for Money   \n",
              "4                       Not worth for the money   \n",
              "\n",
              "                                      Comments_Clean  \\\n",
              "0  Another Midrange killer Smartphone by Xiaomi M...   \n",
              "1                   All ok but vry small size mobile   \n",
              "2                                         Quite good   \n",
              "3  Redmi has always have been the the king of bud...   \n",
              "4  worst product from MI. I am a hardcore fan of ...   \n",
              "\n",
              "                                       Combined_Text  \\\n",
              "0  Another Midrange killer Smartphone by Xiaomi A...   \n",
              "1  vry small size mobile All ok but vry small siz...   \n",
              "2  Full display not working in all application. Q...   \n",
              "3  Value for Money Redmi has always have been the...   \n",
              "4  Not worth for the money worst product from MI....   \n",
              "\n",
              "                      Review_Title_Processed  \\\n",
              "0  another midrange killer smartphone xiaomi   \n",
              "1                      vry small size mobile   \n",
              "2           full display working application   \n",
              "3                                value money   \n",
              "4                                worth money   \n",
              "\n",
              "                                  Comments_Processed  \\\n",
              "0  another midrange killer smartphone xiaomi majo...   \n",
              "1                              vry small size mobile   \n",
              "2                                         quite good   \n",
              "3  redmi always king budget segment.and yet anoth...   \n",
              "4  worst product hardcore fan one really disappoi...   \n",
              "\n",
              "                             Combined_Text_Processed  Text_Length  Word_Count  \n",
              "0  another midrange killer smartphone xiaomi anot...         4579         860  \n",
              "1        vry small size mobile vry small size mobile           54          11  \n",
              "2        full display working application quite good           55           9  \n",
              "3  value money redmi always king budget segment.a...          857         154  \n",
              "4  worth money worst product hardcore fan one rea...          108          21  "
            ]
          },
          "execution_count": 3,
          "metadata": {},
          "output_type": "execute_result"
        }
      ],
      "source": [
        "df = pd.read_csv('cleaned_customer_feedback.csv')\n",
        "print(f\"Dataset shape: {df.shape}\")\n",
        "print(f\"\\nColumn names: {df.columns.tolist()}\")\n",
        "df.head()\n"
      ]
    },
    {
      "cell_type": "markdown",
      "metadata": {},
      "source": [
        "## Create Sentiment Labels\n"
      ]
    },
    {
      "cell_type": "code",
      "execution_count": 4,
      "metadata": {},
      "outputs": [
        {
          "name": "stdout",
          "output_type": "stream",
          "text": [
            "Sentiment distribution:\n",
            "Sentiment\n",
            "Positive    188\n",
            "Negative     48\n",
            "Neutral      23\n",
            "Name: count, dtype: int64\n",
            "\n",
            "Label distribution:\n",
            "Label\n",
            "2    188\n",
            "0     48\n",
            "1     23\n",
            "Name: count, dtype: int64\n"
          ]
        }
      ],
      "source": [
        "def create_sentiment_label(rating):\n",
        "    if rating >= 4.0:\n",
        "        return 'Positive'\n",
        "    elif rating >= 3.0:\n",
        "        return 'Neutral'\n",
        "    else:\n",
        "        return 'Negative'\n",
        "\n",
        "df['Sentiment'] = df['Rating_Numeric'].apply(create_sentiment_label)\n",
        "label_map = {'Negative': 0, 'Neutral': 1, 'Positive': 2}\n",
        "df['Label'] = df['Sentiment'].map(label_map)\n",
        "\n",
        "print(\"Sentiment distribution:\")\n",
        "print(df['Sentiment'].value_counts())\n",
        "print(\"\\nLabel distribution:\")\n",
        "print(df['Label'].value_counts())\n"
      ]
    },
    {
      "cell_type": "code",
      "execution_count": 5,
      "metadata": {},
      "outputs": [
        {
          "data": {
            "image/png": "[encoded data removed]",
            "text/plain": [
              "<Figure size 1000x500 with 1 Axes>"
            ]
          },
          "metadata": {},
          "output_type": "display_data"
        }
      ],
      "source": [
        "plt.figure(figsize=(10, 5))\n",
        "sns.countplot(data=df, x='Sentiment', palette='viridis')\n",
        "plt.title('Sentiment Distribution')\n",
        "plt.xlabel('Sentiment')\n",
        "plt.ylabel('Count')\n",
        "plt.show()\n"
      ]
    },
    {
      "cell_type": "markdown",
      "metadata": {},
      "source": [
        "## Prepare Data for Model Training\n"
      ]
    },
    {
      "cell_type": "code",
      "execution_count": 6,
      "metadata": {},
      "outputs": [
        {
          "name": "stdout",
          "output_type": "stream",
          "text": [
            "Clean dataset size: 259\n",
            "Label distribution:\n",
            "Label\n",
            "2    188\n",
            "0     48\n",
            "1     23\n",
            "Name: count, dtype: int64\n"
          ]
        }
      ],
      "source": [
        "df_clean = df[['Combined_Text', 'Label']].dropna()\n",
        "df_clean = df_clean[df_clean['Combined_Text'].str.strip() != '']\n",
        "df_clean['Combined_Text'] = df_clean['Combined_Text'].astype(str)\n",
        "\n",
        "print(f\"Clean dataset size: {len(df_clean)}\")\n",
        "print(f\"Label distribution:\")\n",
        "print(df_clean['Label'].value_counts())\n"
      ]
    },
    {
      "cell_type": "code",
      "execution_count": 7,
      "metadata": {},
      "outputs": [
        {
          "name": "stdout",
          "output_type": "stream",
          "text": [
            "Training samples: 181\n",
            "Validation samples: 39\n",
            "Test samples: 39\n"
          ]
        }
      ],
      "source": [
        "train_texts, temp_texts, train_labels, temp_labels = train_test_split(\n",
        "    df_clean['Combined_Text'].tolist(),\n",
        "    df_clean['Label'].tolist(),\n",
        "    test_size=0.3,\n",
        "    random_state=42,\n",
        "    stratify=df_clean['Label']\n",
        ")\n",
        "\n",
        "val_texts, test_texts, val_labels, test_labels = train_test_split(\n",
        "    temp_texts,\n",
        "    temp_labels,\n",
        "    test_size=0.5,\n",
        "    random_state=42,\n",
        "    stratify=temp_labels\n",
        ")\n",
        "\n",
        "print(f\"Training samples: {len(train_texts)}\")\n",
        "print(f\"Validation samples: {len(val_texts)}\")\n",
        "print(f\"Test samples: {len(test_texts)}\")\n"
      ]
    },
    {
      "cell_type": "markdown",
      "metadata": {},
      "source": [
        "## Load DistilBERT Tokenizer and Model\n"
      ]
    },
    {
      "cell_type": "code",
      "execution_count": 8,
      "metadata": {},
      "outputs": [
        {
          "name": "stderr",
          "output_type": "stream",
          "text": [
            "Some weights of DistilBertForSequenceClassification were not initialized from the model checkpoint at distilbert-base-uncased and are newly initialized: ['classifier.bias', 'classifier.weight', 'pre_classifier.bias', 'pre_classifier.weight']\n",
            "You should probably TRAIN this model on a down-stream task to be able to use it for predictions and inference.\n"
          ]
        },
        {
          "name": "stdout",
          "output_type": "stream",
          "text": [
            "Model and tokenizer loaded successfully\n"
          ]
        }
      ],
      "source": [
        "model_name = 'distilbert-base-uncased'\n",
        "tokenizer = DistilBertTokenizer.from_pretrained(model_name)\n",
        "model = DistilBertForSequenceClassification.from_pretrained(model_name, num_labels=3)\n",
        "model.to(device)\n",
        "print(\"Model and tokenizer loaded successfully\")\n"
      ]
    },
    {
      "cell_type": "markdown",
      "metadata": {},
      "source": [
        "## Tokenize Dataset\n"
      ]
    },
    {
      "cell_type": "code",
      "execution_count": 9,
      "metadata": {},
      "outputs": [
        {
          "name": "stdout",
          "output_type": "stream",
          "text": [
            "Tokenization completed\n"
          ]
        }
      ],
      "source": [
        "def tokenize_function(texts):\n",
        "    return tokenizer(texts, padding='max_length', truncation=True, max_length=128)\n",
        "\n",
        "train_encodings = tokenize_function(train_texts)\n",
        "val_encodings = tokenize_function(val_texts)\n",
        "test_encodings = tokenize_function(test_texts)\n",
        "\n",
        "print(\"Tokenization completed\")\n"
      ]
    },
    {
      "cell_type": "code",
      "execution_count": 10,
      "metadata": {},
      "outputs": [
        {
          "name": "stdout",
          "output_type": "stream",
          "text": [
            "Datasets created successfully\n"
          ]
        }
      ],
      "source": [
        "train_dataset = Dataset.from_dict({\n",
        "    'input_ids': train_encodings['input_ids'],\n",
        "    'attention_mask': train_encodings['attention_mask'],\n",
        "    'labels': train_labels\n",
        "})\n",
        "\n",
        "val_dataset = Dataset.from_dict({\n",
        "    'input_ids': val_encodings['input_ids'],\n",
        "    'attention_mask': val_encodings['attention_mask'],\n",
        "    'labels': val_labels\n",
        "})\n",
        "\n",
        "test_dataset = Dataset.from_dict({\n",
        "    'input_ids': test_encodings['input_ids'],\n",
        "    'attention_mask': test_encodings['attention_mask'],\n",
        "    'labels': test_labels\n",
        "})\n",
        "\n",
        "print(\"Datasets created successfully\")\n"
      ]
    },
    {
      "cell_type": "markdown",
      "metadata": {},
      "source": [
        "## Define Training Configuration\n"
      ]
    },
    {
      "cell_type": "code",
      "execution_count": 11,
      "metadata": {},
      "outputs": [
        {
          "name": "stdout",
          "output_type": "stream",
          "text": [
            "Training configuration set\n"
          ]
        }
      ],
      "source": [
        "training_args = TrainingArguments(\n",
        "    output_dir='./results',\n",
        "    num_train_epochs=3,\n",
        "    per_device_train_batch_size=8,\n",
        "    per_device_eval_batch_size=8,\n",
        "    warmup_steps=100,\n",
        "    weight_decay=0.01,\n",
        "    logging_dir='./logs',\n",
        "    logging_steps=10,\n",
        "    eval_strategy='epoch',\n",
        "    save_strategy='epoch',\n",
        "    load_best_model_at_end=True,\n",
        "    use_cpu=True if device.type == 'cpu' else False\n",
        ")\n",
        "\n",
        "print(\"Training configuration set\")\n"
      ]
    },
    {
      "cell_type": "code",
      "execution_count": 12,
      "metadata": {},
      "outputs": [],
      "source": [
        "def compute_metrics(pred):\n",
        "    labels = pred.label_ids\n",
        "    preds = pred.predictions.argmax(-1)\n",
        "    precision, recall, f1, _ = precision_recall_fscore_support(labels, preds, average='weighted')\n",
        "    acc = accuracy_score(labels, preds)\n",
        "    return {\n",
        "        'accuracy': acc,\n",
        "        'precision': precision,\n",
        "        'recall': recall,\n",
        "        'f1': f1\n",
        "    }\n"
      ]
    },
    {
      "cell_type": "code",
      "execution_count": 13,
      "metadata": {},
      "outputs": [
        {
          "name": "stdout",
          "output_type": "stream",
          "text": [
            "Starting model training...\n"
          ]
        },
        {
          "data": {
            "text/html": [
              "\n",
              "    <div>\n",
              "      \n",
              "      <progress value='69' max='69' style='width:300px; height:20px; vertical-align: middle;'></progress>\n",
              "      [69/69 01:43, Epoch 3/3]\n",
              "    </div>\n",
              "    <table border=\"1\" class=\"dataframe\">\n",
              "  <thead>\n",
              " <tr style=\"text-align: left;\">\n",
              "      <th>Epoch</th>\n",
              "      <th>Training Loss</th>\n",
              "      <th>Validation Loss</th>\n",
              "      <th>Accuracy</th>\n",
              "      <th>Precision</th>\n",
              "      <th>Recall</th>\n",
              "      <th>F1</th>\n",
              "    </tr>\n",
              "  </thead>\n",
              "  <tbody>\n",
              "    <tr>\n",
              "      <td>1</td>\n",
              "      <td>1.030500</td>\n",
              "      <td>0.940495</td>\n",
              "      <td>0.743590</td>\n",
              "      <td>0.552926</td>\n",
              "      <td>0.743590</td>\n",
              "      <td>0.634238</td>\n",
              "    </tr>\n",
              "    <tr>\n",
              "      <td>2</td>\n",
              "      <td>0.800600</td>\n",
              "      <td>0.634606</td>\n",
              "      <td>0.743590</td>\n",
              "      <td>0.552926</td>\n",
              "      <td>0.743590</td>\n",
              "      <td>0.634238</td>\n",
              "    </tr>\n",
              "    <tr>\n",
              "      <td>3</td>\n",
              "      <td>0.613000</td>\n",
              "      <td>0.439436</td>\n",
              "      <td>0.846154</td>\n",
              "      <td>0.795604</td>\n",
              "      <td>0.846154</td>\n",
              "      <td>0.804414</td>\n",
              "    </tr>\n",
              "  </tbody>\n",
              "</table><p>"
            ],
            "text/plain": [
              "<IPython.core.display.HTML object>"
            ]
          },
          "metadata": {},
          "output_type": "display_data"
        },
        {
          "name": "stdout",
          "output_type": "stream",
          "text": [
            "Training completed!\n"
          ]
        }
      ],
      "source": [
        "trainer = Trainer(\n",
        "    model=model,\n",
        "    args=training_args,\n",
        "    train_dataset=train_dataset,\n",
        "    eval_dataset=val_dataset,\n",
        "    compute_metrics=compute_metrics\n",
        ")\n",
        "\n",
        "print(\"Starting model training...\")\n",
        "trainer.train()\n",
        "print(\"Training completed!\")\n"
      ]
    },
    {
      "cell_type": "markdown",
      "metadata": {},
      "source": [
        "## Model Evaluation\n"
      ]
    },
    {
      "cell_type": "code",
      "execution_count": 14,
      "metadata": {},
      "outputs": [
        {
          "data": {
            "text/html": [],
            "text/plain": [
              "<IPython.core.display.HTML object>"
            ]
          },
          "metadata": {},
          "output_type": "display_data"
        },
        {
          "name": "stdout",
          "output_type": "stream",
          "text": [
            "============================================================\n",
            "MODEL EVALUATION RESULTS\n",
            "============================================================\n",
            "Accuracy:  0.8205\n",
            "Precision: 0.7368\n",
            "Recall:    0.8205\n",
            "F1 Score:  0.7764\n",
            "============================================================\n"
          ]
        }
      ],
      "source": [
        "predictions = trainer.predict(test_dataset)\n",
        "pred_labels = predictions.predictions.argmax(-1)\n",
        "true_labels = test_labels\n",
        "\n",
        "accuracy = accuracy_score(true_labels, pred_labels)\n",
        "precision, recall, f1, _ = precision_recall_fscore_support(true_labels, pred_labels, average='weighted')\n",
        "\n",
        "print(\"=\" * 60)\n",
        "print(\"MODEL EVALUATION RESULTS\")\n",
        "print(\"=\" * 60)\n",
        "print(f\"Accuracy:  {accuracy:.4f}\")\n",
        "print(f\"Precision: {precision:.4f}\")\n",
        "print(f\"Recall:    {recall:.4f}\")\n",
        "print(f\"F1 Score:  {f1:.4f}\")\n",
        "print(\"=\" * 60)\n"
      ]
    },
    {
      "cell_type": "code",
      "execution_count": 15,
      "metadata": {},
      "outputs": [
        {
          "name": "stdout",
          "output_type": "stream",
          "text": [
            "\n",
            "Classification Report:\n",
            "              precision    recall  f1-score   support\n",
            "\n",
            "    Negative       0.75      0.86      0.80         7\n",
            "     Neutral       0.00      0.00      0.00         4\n",
            "    Positive       0.84      0.93      0.88        28\n",
            "\n",
            "    accuracy                           0.82        39\n",
            "   macro avg       0.53      0.60      0.56        39\n",
            "weighted avg       0.74      0.82      0.78        39\n",
            "\n"
          ]
        }
      ],
      "source": [
        "print(\"\\nClassification Report:\")\n",
        "print(classification_report(true_labels, pred_labels, target_names=['Negative', 'Neutral', 'Positive']))\n"
      ]
    },
    {
      "cell_type": "code",
      "execution_count": 16,
      "metadata": {},
      "outputs": [
        {
          "data": {
            "image/png": "[encoded data removed]",
            "text/plain": [
              "<Figure size 800x600 with 2 Axes>"
            ]
          },
          "metadata": {},
          "output_type": "display_data"
        }
      ],
      "source": [
        "cm = confusion_matrix(true_labels, pred_labels)\n",
        "plt.figure(figsize=(8, 6))\n",
        "sns.heatmap(cm, annot=True, fmt='d', cmap='Blues', xticklabels=['Negative', 'Neutral', 'Positive'], \n",
        "            yticklabels=['Negative', 'Neutral', 'Positive'])\n",
        "plt.title('Confusion Matrix')\n",
        "plt.ylabel('True Label')\n",
        "plt.xlabel('Predicted Label')\n",
        "plt.show()\n"
      ]
    },
    {
      "cell_type": "markdown",
      "metadata": {},
      "source": [
        "## Save Model and Tokenizer\n"
      ]
    },
    {
      "cell_type": "code",
      "execution_count": 17,
      "metadata": {},
      "outputs": [
        {
          "name": "stdout",
          "output_type": "stream",
          "text": [
            "Model and tokenizer saved successfully to './sentiment_model'\n"
          ]
        }
      ],
      "source": [
        "model.save_pretrained('./sentiment_model')\n",
        "tokenizer.save_pretrained('./sentiment_model')\n",
        "print(\"Model and tokenizer saved successfully to './sentiment_model'\")\n"
      ]
    },
    {
      "cell_type": "code",
      "execution_count": 18,
      "metadata": {},
      "outputs": [
        {
          "name": "stdout",
          "output_type": "stream",
          "text": [
            "Model metrics saved to 'sentiment_model.pkl'\n"
          ]
        }
      ],
      "source": [
        "import pickle\n",
        "\n",
        "model_info = {\n",
        "    'accuracy': accuracy,\n",
        "    'precision': precision,\n",
        "    'recall': recall,\n",
        "    'f1_score': f1,\n",
        "    'label_map': label_map,\n",
        "    'reverse_label_map': {0: 'Negative', 1: 'Neutral', 2: 'Positive'}\n",
        "}\n",
        "\n",
        "with open('sentiment_model.pkl', 'wb') as f:\n",
        "    pickle.dump(model_info, f)\n",
        "\n",
        "print(\"Model metrics saved to 'sentiment_model.pkl'\")\n"
      ]
    },
    {
      "cell_type": "markdown",
      "metadata": {},
      "source": [
        "## Test with Sample Predictions\n"
      ]
    },
    {
      "cell_type": "code",
      "execution_count": 19,
      "metadata": {},
      "outputs": [
        {
          "name": "stdout",
          "output_type": "stream",
          "text": [
            "Sample Predictions:\n",
            "============================================================\n",
            "Text: This phone is absolutely amazing! Best purchase ever!\n",
            "Predicted Sentiment: Positive (Confidence: 93.28%)\n",
            "------------------------------------------------------------\n",
            "Text: The product is okay, nothing special\n",
            "Predicted Sentiment: Positive (Confidence: 93.05%)\n",
            "------------------------------------------------------------\n",
            "Text: Terrible quality, waste of money. Very disappointed.\n",
            "Predicted Sentiment: Positive (Confidence: 58.54%)\n",
            "------------------------------------------------------------\n"
          ]
        }
      ],
      "source": [
        "def predict_sentiment(text):\n",
        "    inputs = tokenizer(text, return_tensors=\"pt\", padding=True, truncation=True, max_length=128)\n",
        "    inputs = {k: v.to(device) for k, v in inputs.items()}\n",
        "    \n",
        "    model.eval()\n",
        "    with torch.no_grad():\n",
        "        outputs = model(**inputs)\n",
        "    \n",
        "    prediction = torch.argmax(outputs.logits, dim=1).item()\n",
        "    sentiment = ['Negative', 'Neutral', 'Positive'][prediction]\n",
        "    confidence = torch.softmax(outputs.logits, dim=1)[0][prediction].item()\n",
        "    \n",
        "    return sentiment, confidence\n",
        "\n",
        "sample_texts = [\n",
        "    \"This phone is absolutely amazing! Best purchase ever!\",\n",
        "    \"The product is okay, nothing special\",\n",
        "    \"Terrible quality, waste of money. Very disappointed.\"\n",
        "]\n",
        "\n",
        "print(\"Sample Predictions:\")\n",
        "print(\"=\" * 60)\n",
        "for text in sample_texts:\n",
        "    sentiment, confidence = predict_sentiment(text)\n",
        "    print(f\"Text: {text}\")\n",
        "    print(f\"Predicted Sentiment: {sentiment} (Confidence: {confidence:.2%})\")\n",
        "    print(\"-\" * 60)\n"
      ]
    }
  ],
  "metadata": {
    "kernelspec": {
      "display_name": "venv",
      "language": "python",
      "name": "python3"
    },
    "language_info": {
      "codemirror_mode": {
        "name": "ipython",
        "version": 3
      },
      "file_extension": ".py",
      "mimetype": "text/x-python",
      "name": "python",
      "nbconvert_exporter": "python",
      "pygments_lexer": "ipython3",
      "version": "3.13.8"
    }
  },
  "nbformat": 4,
  "nbformat_minor": 2
}
